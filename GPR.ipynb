{
 "cells": [
  {
   "cell_type": "code",
   "execution_count": 1,
   "metadata": {},
   "outputs": [],
   "source": [
    "import pandas as pd\n",
    "import numpy as np"
   ]
  },
  {
   "cell_type": "code",
   "execution_count": null,
   "metadata": {
    "jupyter": {
     "source_hidden": true
    }
   },
   "outputs": [],
   "source": [
    "import tensorflow as tf\n",
    "import tensorflow_probability as tfp\n",
    "\n",
    "import matplotlib.pyplot as plt\n",
    "\n",
    "# Data generation example: figure 3 page 13\n",
    "\n",
    "samples = tfp.mcmc.sample_halton_sequence(2,num_results=200,seed=127)\n",
    "samples = samples.numpy()\n",
    "samples[:,0] = samples[:,0]*40 +30\n",
    "samples[:,1] = samples[:,1]*0.38-0.01\n",
    "plt.scatter(samples[:,0],samples[:,1])\n",
    "plt.xlabel('S')\n",
    "plt.ylabel('t')\n",
    "plt.show()"
   ]
  },
  {
   "cell_type": "code",
   "execution_count": 2,
   "metadata": {},
   "outputs": [],
   "source": [
    "#Black Scholes pricing formula (from: https://aaronschlegel.me/black-scholes-formula-python.html)\n",
    "import scipy.stats as si\n",
    "def euro_call(S, K, T, r, sigma):\n",
    "    \n",
    "    #S: spot price\n",
    "    #K: strike price\n",
    "    #T: time to maturity\n",
    "    #r: interest rate\n",
    "    #sigma: volatility of underlying asset\n",
    "    \n",
    "    d1 = (np.log(S / K) + (r + 0.5 * sigma ** 2) * T) / (sigma * np.sqrt(T))\n",
    "    d2 = (np.log(S / K) + (r - 0.5 * sigma ** 2) * T) / (sigma * np.sqrt(T))\n",
    "    \n",
    "    call = (S * si.norm.cdf(d1, 0.0, 1.0) - K * np.exp(-r * T) * si.norm.cdf(d2, 0.0, 1.0))\n",
    "    \n",
    "    return call\n",
    "def delta_call(S, K, T, r, sigma):\n",
    "    \n",
    "    d1 = (np.log(S / K) + (r + 0.5 * sigma ** 2) * T) / (sigma * np.sqrt(T))\n",
    "    \n",
    "    delta_call = si.norm.cdf(d1, 0.0, 1.0)\n",
    "    \n",
    "    return delta_call\n",
    "def theta_call(S, K, T, r, sigma):\n",
    "    \n",
    "    d1 = (np.log(S / K) + (r + 0.5 * sigma ** 2) * T) / (sigma * np.sqrt(T))\n",
    "    d2 = (np.log(S / K) + (r - 0.5 * sigma ** 2) * T) / (sigma * np.sqrt(T))\n",
    "    \n",
    "    prob_density = 1 / np.sqrt(2 * np.pi) * np.exp(-d1 ** 2 * 0.5)\n",
    "    \n",
    "    theta = (-sigma * S * prob_density) / (2 * np.sqrt(T)) - r * K * np.exp(-r * T) * si.norm.cdf(d2, 0.0, 1.0)\n",
    "    \n",
    "    return theta"
   ]
  },
  {
   "cell_type": "code",
   "execution_count": 3,
   "metadata": {},
   "outputs": [],
   "source": [
    "# Illustration from section 2.5\n",
    "\n",
    "#Parameters and data\n",
    "r = 0.04\n",
    "sigma = 0.22\n",
    "T = 0.4 \n",
    "K = 50\n",
    "\n",
    "stock = np.linspace(32,68,10,dtype=np.float64)\n",
    "tau = np.linspace(0.04,0.4,10,dtype= np.float64)\n",
    "\n",
    "grid = [(t,s) for t in tau for s in stock]\n",
    "grid = np.asarray(grid)\n",
    "\n",
    "prices = euro_call(grid[:,1],K,grid[:,0],r,sigma)\n",
    "deltas = delta_call(grid[:,1],K,grid[:,0],r,sigma)\n",
    "\n",
    "df_train = pd.DataFrame(data=[grid[:,0],grid[:,1],prices,deltas]).T\n",
    "df_train.columns=['Tau','Stock','Price','Delta']\n",
    "\n",
    "X = np.array(df_train.iloc[:,:2])\n",
    "y = np.array(df_train.iloc[:,2])"
   ]
  },
  {
   "cell_type": "code",
   "execution_count": null,
   "metadata": {},
   "outputs": [],
   "source": [
    "df_train[(np.abs(df_train['Tau']-0.2)<0.001)]"
   ]
  },
  {
   "cell_type": "code",
   "execution_count": 4,
   "metadata": {},
   "outputs": [
    {
     "name": "stdout",
     "output_type": "stream",
     "text": [
      "<tf.Variable 'sigma_noise2:0' shape=() dtype=float64, numpy=0.0001>\n",
      "<tf.Variable 'sigma_proc:0' shape=() dtype=float64, numpy=1.0>\n",
      "<tf.Variable 'length_scales:0' shape=(2,) dtype=float64, numpy=array([1., 1.])>\n"
     ]
    }
   ],
   "source": [
    "# Attempt 3: tensorflow implementation\n",
    "\n",
    "import tensorflow as tf\n",
    "import tensorflow_probability as tfp\n",
    "tfb = tfp.bijectors\n",
    "tfd = tfp.distributions\n",
    "psd_kernels = tfp.math.psd_kernels\n",
    "\n",
    "#Define hyperparameters\n",
    "process_variance = 1\n",
    "noise_variance = 0.0001\n",
    "length_scales = [1,1]\n",
    "\n",
    "sp = tf.Variable(process_variance,dtype=tf.float64, name = 'sigma_proc')\n",
    "#sn2 = tfp.util.TransformedVariable(0.01,bijector = tfb.Square(),dtype=tf.float64 , name = 'sigma_noise2')\n",
    "sn2 = tf.Variable(noise_variance,dtype=tf.float64,name = 'sigma_noise2',constraint= lambda x: x**2)\n",
    "scales = tfp.util.TransformedVariable(length_scales,tfb.Identity(),dtype=tf.float64 ,name = 'length_scales')\n",
    "scales = tf.Variable(length_scales,dtype=tf.float64 ,name = 'length_scales')\n",
    "\n",
    "\n",
    "#Define kernel\n",
    "\n",
    "class CustomSE(psd_kernels.PositiveSemidefiniteKernel):\n",
    "    def __init__(self,feature_ndims=1, parameters=None,dtype=None, name=None, validate_args=False):\n",
    "        super().__init__(feature_ndims, dtype, name, validate_args, parameters)\n",
    "        self.amplitude = parameters['amp']\n",
    "        self.length_scales = parameters['scales']\n",
    "        self.family = parameters['family']\n",
    "    def _apply(self,x,y,example_ndims):\n",
    "        scaled_diff = tf.math.abs(x-y)/self.length_scales\n",
    "        if (self.family == 'M52'): return self._apply_M52(scaled_diff)\n",
    "        if (self.family == 'M32'): return self._apply_M32(scaled_diff)\n",
    "        return self._apply_SE(scaled_diff)\n",
    "    \n",
    "    def _apply_SE(self,diff):\n",
    "        return self.amplitude*tf.math.exp(-tf.math.reduce_sum(diff**2/2,axis=-1))\n",
    "    \n",
    "    def _apply_M52(self,diff):\n",
    "        prod_element = (1+np.sqrt(5)*diff+5*(diff**2)/3)*tf.math.exp(-np.sqrt(5)*diff)\n",
    "        return self.amplitude*tf.reduce_prod(prod_element,axis=-1)\n",
    "        \n",
    "    def _apply_M32(self,diff):\n",
    "        prod_element = (1+np.sqrt(3)*diff)*tf.math.exp(-np.sqrt(3)*diff)\n",
    "        return self.amplitude*tf.reduce_prod(prod_element,axis=-1)\n",
    "    \n",
    "    def _batch_shape(self):\n",
    "        scalar_shape = tf.TensorShape([])\n",
    "        return scalar_shape\n",
    "\n",
    "    def _batch_shape_tensor(self):\n",
    "        return tf.convert_to_tensor(self.batch_shape, dtype=tf.int32, name='batch_shape')\n",
    "\n",
    "kernel_family = 'SE' #'M32' 'M52'\n",
    "def base_kernel(family = 'SE'):\n",
    "    if (family == 'M52'): return psd_kernels.MaternFiveHalves(amplitude = sp)\n",
    "    if (family == 'M32'): return psd_kernels.MaternThreeHalves(amplitude =sp)\n",
    "    return psd_kernels.ExponentiatedQuadratic(amplitude = sp)\n",
    "\n",
    "kernel = psd_kernels.FeatureScaled(base_kernel(kernel_family),scales)\n",
    "my_kernel = CustomSE(1,parameters ={'amp' : sp , 'scales': scales,'family' : kernel_family})\n",
    "\n",
    "#Load data\n",
    "X = np.array(df_train.iloc[:,:2])\n",
    "y = np.array(df_train.iloc[:,2])\n",
    "\n",
    "b_0 = tf.Variable(0,dtype=tf.float64, name = 'b0')\n",
    "b_1 = tf.Variable(1,dtype=tf.float64, name = 'b1')\n",
    "b = tf.Variable([[1,1]],dtype=tf.float64, name= 'b12')\n",
    "\n",
    "#Define mean function\n",
    "def mean_f(x): return tf.squeeze(b_0 + tf.linalg.matmul(x, b, transpose_b=True))\n",
    "#def mean_f(x): return tf.squeeze(b_0+b_1*x[:,-1])\n",
    "\n",
    "X_tf = tf.constant(X)\n",
    "\n",
    "GP = tfp.distributions.GaussianProcess(my_kernel, index_points=X_tf, mean_fn=mean_f, observation_noise_variance=sn2,jitter=1e-06, name='GP')\n",
    "\n",
    "for var in GP.trainable_variables: print(var)"
   ]
  },
  {
   "cell_type": "code",
   "execution_count": null,
   "metadata": {},
   "outputs": [
    {
     "name": "stdout",
     "output_type": "stream",
     "text": [
      "WARNING:tensorflow:From /Library/Frameworks/Python.framework/Versions/3.7/lib/python3.7/site-packages/tensorflow/python/ops/linalg/linear_operator_lower_triangular.py:158: calling LinearOperator.__init__ (from tensorflow.python.ops.linalg.linear_operator) with graph_parents is deprecated and will be removed in a future version.\n",
      "Instructions for updating:\n",
      "Do not pass `graph_parents`.  They will  no longer be used.\n",
      "Step 0: NLL = 14566.254740520686\n",
      "Step 2000: NLL = -157.51092201176414\n",
      "Step 4000: NLL = -182.19492338893951\n"
     ]
    }
   ],
   "source": [
    "# Define optimizer and perform gradient steps\n",
    "optimizer = tf.optimizers.Adam(learning_rate=0.001)\n",
    "\n",
    "@tf.function\n",
    "def optimize():\n",
    "    with tf.GradientTape() as tape:\n",
    "        loss = -GP.log_prob(y)\n",
    "    hyperparam = GP.trainable_variables + (b_0,b)\n",
    "    grads = tape.gradient(loss, hyperparam)\n",
    "    optimizer.apply_gradients(zip(grads, hyperparam))\n",
    "    return loss\n",
    "\n",
    "for i in range(30000):\n",
    "    neg_log_likelihood = optimize()\n",
    "    if i % 2000 == 0:\n",
    "        print(\"Step {}: NLL = {}\".format(i, neg_log_likelihood))\n",
    "print(\"Final NLL = {}\".format(neg_log_likelihood))\n",
    "\n",
    "print(GP.trainable_variables)\n",
    "print(b_0,b)"
   ]
  },
  {
   "cell_type": "code",
   "execution_count": 54,
   "metadata": {},
   "outputs": [],
   "source": [
    "test_stocks = np.linspace(34,62,8)\n",
    "#test_stocks = stock-2\n",
    "X_02 = np.zeros([len(test_stocks),2])\n",
    "X_02[:,0] = 0.2\n",
    "X_02[:,1]= test_stocks\n",
    "y_02 = euro_call(test_stocks,K,X_02[:,0],r,sigma)\n",
    "deltas_02 = delta_call(test_stocks,K,X_02[:,0],r,sigma)"
   ]
  },
  {
   "cell_type": "code",
   "execution_count": 48,
   "metadata": {},
   "outputs": [],
   "source": [
    "data_02 = df_train[np.abs(df_train['Tau']-0.2)<0.01].values\n",
    "X_02 = data_02[:,:2]\n",
    "y_02 = data_02[:,2]\n",
    "deltas_02 = data_02[:,3]"
   ]
  },
  {
   "cell_type": "code",
   "execution_count": 59,
   "metadata": {},
   "outputs": [],
   "source": [
    "# Define regression model with updated parameters and make prediction\n",
    "from scipy.stats import norm\n",
    "confidence = 0.95\n",
    "z = norm.ppf((confidence+1)/2)\n",
    "GPR = tfp.distributions.GaussianProcessRegressionModel(my_kernel, index_points=tf.constant(X_02,dtype=tf.float64),observation_index_points=X_tf,observations = y, mean_fn=mean_f, \\\n",
    "                                        observation_noise_variance=sn2,jitter=1e-06, name='GPR')\n",
    "pred_price = GPR.mean()\n",
    "\n",
    "lower_bound = pred_price - z*np.sqrt(GPR.variance())\n",
    "upper_bound = pred_price + z*np.sqrt(GPR.variance())"
   ]
  },
  {
   "cell_type": "code",
   "execution_count": 60,
   "metadata": {},
   "outputs": [
    {
     "data": {
      "image/png": "[encoded data removed]",
      "text/plain": [
       "<Figure size 432x288 with 1 Axes>"
      ]
     },
     "metadata": {
      "needs_background": "light"
     },
     "output_type": "display_data"
    },
    {
     "name": "stdout",
     "output_type": "stream",
     "text": [
      "0.020537543964990638\n"
     ]
    }
   ],
   "source": [
    "import matplotlib.pyplot as plt\n",
    "from sklearn.metrics import mean_squared_error as mse\n",
    "\n",
    "plt.plot(test_stocks,y_02)\n",
    "plt.scatter(test_stocks,pred_price,color='red')\n",
    "plt.plot(test_stocks,upper_bound,'--',color='black')\n",
    "plt.plot(test_stocks,lower_bound,'--',color='black')\n",
    "plt.show()\n",
    "print(mse(pred_price,y_02))"
   ]
  },
  {
   "cell_type": "code",
   "execution_count": 61,
   "metadata": {},
   "outputs": [
    {
     "data": {
      "image/png": "[encoded data removed]",
      "text/plain": [
       "<Figure size 432x288 with 1 Axes>"
      ]
     },
     "metadata": {
      "needs_background": "light"
     },
     "output_type": "display_data"
    },
    {
     "name": "stdout",
     "output_type": "stream",
     "text": [
      "0.001375060943418707\n"
     ]
    }
   ],
   "source": [
    "#In-sample verification\n",
    "x_test = tf.Variable(X_02,dtype=tf.float64)\n",
    "with tf.GradientTape() as tape2:\n",
    "    with tf.GradientTape() as tape1:\n",
    "        GPR = tfp.distributions.GaussianProcessRegressionModel(my_kernel, index_points=x_test,observation_index_points=X_tf,observations = y, mean_fn=mean_f, \\\n",
    "                                            observation_noise_variance=sn2,jitter=1e-06, name='GPR')\n",
    "        p_hat = GPR.mean()\n",
    "        K_star = GPR.variance()\n",
    "        \n",
    "delta_ = tape1.gradient(p_hat,x_test)\n",
    "K_g = tape2.gradient(K_star,x_test)\n",
    "\n",
    "lower_bound = delta_[:,1]-z*np.sqrt(np.abs(K_g[:,-1]))\n",
    "upper_bound = delta_[:,1]+z*np.sqrt(np.abs(K_g[:,-1]))\n",
    "\n",
    "plt.plot(test_stocks,deltas_02,color='blue')\n",
    "plt.title('Tau = 0.2')\n",
    "plt.scatter(test_stocks,delta_[:,1],color='red',marker='x')\n",
    "plt.plot(test_stocks,upper_bound,'--',color='black')\n",
    "plt.plot(test_stocks,lower_bound,'--',color='black')\n",
    "plt.show()\n",
    "print(mse(delta_[:,1],deltas_02))"
   ]
  },
  {
   "cell_type": "code",
   "execution_count": 62,
   "metadata": {},
   "outputs": [
    {
     "data": {
      "image/png": "[encoded data removed]",
      "text/plain": [
       "<Figure size 432x288 with 1 Axes>"
      ]
     },
     "metadata": {
      "needs_background": "light"
     },
     "output_type": "display_data"
    }
   ],
   "source": [
    "#Extrapolation case\n",
    "\n",
    "extra_tau = 0.5*np.ones(len(test_stocks))\n",
    "extra_prices = euro_call(test_stocks,K,extra_tau,r,sigma)\n",
    "extra_delta = delta_call(test_stocks,K,extra_tau,r,sigma)\n",
    "\n",
    "x_ = np.vstack((extra_tau,test_stocks)).T\n",
    "x_extra = tf.Variable(x_,dtype=tf.float64)\n",
    "with tf.GradientTape() as tape2:\n",
    "    with tf.GradientTape() as tape1:\n",
    "        GPR = tfp.distributions.GaussianProcessRegressionModel(my_kernel, index_points=x_extra,observation_index_points=X_tf,observations = y, mean_fn=mean_f, \\\n",
    "                                            observation_noise_variance=sn2,jitter=1e-06, name='GPR')\n",
    "        p_hat = GPR.mean()\n",
    "        K_star = GPR.variance()\n",
    "        \n",
    "delta_ = tape1.gradient(p_hat,x_extra)\n",
    "K_g = tape2.gradient(K_star,x_extra)\n",
    "\n",
    "lower_bound = delta_[:,1]-z*np.sqrt(np.abs(K_g[:,-1]))\n",
    "upper_bound = delta_[:,1]+z*np.sqrt(np.abs(K_g[:,-1]))\n",
    "\n",
    "plt.plot(test_stocks,extra_delta)\n",
    "plt.title('Tau = 0.5')\n",
    "plt.scatter(test_stocks,delta_[:,1],color='red')\n",
    "plt.plot(test_stocks,upper_bound,'--')\n",
    "plt.plot(test_stocks,lower_bound,'--')\n",
    "plt.show()"
   ]
  },
  {
   "cell_type": "code",
   "execution_count": null,
   "metadata": {},
   "outputs": [],
   "source": []
  }
 ],
 "metadata": {
  "kernelspec": {
   "display_name": "Python 3",
   "language": "python",
   "name": "python3"
  },
  "language_info": {
   "codemirror_mode": {
    "name": "ipython",
    "version": 3
   },
   "file_extension": ".py",
   "mimetype": "text/x-python",
   "name": "python",
   "nbconvert_exporter": "python",
   "pygments_lexer": "ipython3",
   "version": "3.7.5"
  }
 },
 "nbformat": 4,
 "nbformat_minor": 4
}
