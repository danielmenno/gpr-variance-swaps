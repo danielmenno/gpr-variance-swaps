{
 "cells": [
  {
   "cell_type": "code",
   "execution_count": 1,
   "metadata": {},
   "outputs": [],
   "source": [
    "# Imports \n",
    "import numpy as np\n",
    "import pandas as pd\n",
    "\n",
    "import tensorflow as tf\n",
    "\n",
    "import tensorflow_probability as tfp\n",
    "tfb = tfp.bijectors\n",
    "tfd = tfp.distributions\n",
    "psd_kernels = tfp.math.psd_kernels\n",
    "\n",
    "import matplotlib.pyplot as plt"
   ]
  },
  {
   "cell_type": "code",
   "execution_count": 2,
   "metadata": {},
   "outputs": [],
   "source": [
    "# Pricing models\n",
    "import scipy.stats as si\n",
    "class Black_Scholes():\n",
    "    def __init__(self,interest= 0.04,volatility = 0.22, maturity = 0.4, strike = 50):\n",
    "        self.r = interest\n",
    "        self.sigma = volatility\n",
    "        self.T = maturity\n",
    "        self.K = strike\n",
    "    def price(self,S,tau_):\n",
    "        d1 = (np.log(S / self.K) + (self.r + 0.5 * self.sigma ** 2) * tau_) / (self.sigma * np.sqrt(tau_))\n",
    "        d2 = (np.log(S / self.K) + (self.r - 0.5 * self.sigma ** 2) * tau_) / (self.sigma * np.sqrt(tau_))\n",
    "        call = (S * si.norm.cdf(d1, 0.0, 1.0) - self.K * np.exp(-self.r * tau_) * si.norm.cdf(d2, 0.0, 1.0))\n",
    "\n",
    "        return call\n",
    "    def delta(self,S,tau_):    \n",
    "        d1 = (np.log(S / self.K) + (self.r + 0.5 * self.sigma ** 2) * tau_) / (self.sigma * np.sqrt(tau_))  \n",
    "        delta_call = si.norm.cdf(d1, 0.0, 1.0)\n",
    "        \n",
    "        return delta_call\n",
    "    def theta(self,S,tau_):    \n",
    "        d1 = (np.log(S / self.K) + (self.r + 0.5 * self.sigma ** 2) * tau_) / (self.sigma * np.sqrt(tau_))\n",
    "        d2 = (np.log(S / self.K) + (self.r - 0.5 * self.sigma ** 2) * tau_) / (self.sigma * np.sqrt(tau_))\n",
    "        prob_density = 1 / np.sqrt(2 * np.pi) * np.exp(-d1 ** 2 * 0.5)\n",
    "        theta_call = (-self.sigma * S * prob_density) / (2 * np.sqrt(tau_)) - self.r * self.K * np.exp(-self.r * tau_)\\\n",
    "            * si.norm.cdf(d2, 0.0, 1.0)\n",
    "\n",
    "        return theta_call\n",
    "class LVM():\n",
    "    def __init__(self,interest= 0.05, maturity = 0.4, strike = 50):\n",
    "        self.r = interest\n",
    "        self.T = maturity\n",
    "        self.K = strike\n",
    "    def sigma(self,t,S,S_star):\n",
    "        if np.abs(np.log(S,S_star))< 0.4:\n",
    "            sigma_ = 0.4 - 0.16 * np.exp(-0.5*(self.T-t))*np.cos(1.25*np.pi * np.log(S,S_star))\n",
    "        else:\n",
    "            sigma_ = 0.4\n",
    "        return sigma_ "
   ]
  },
  {
   "cell_type": "code",
   "execution_count": 3,
   "metadata": {},
   "outputs": [],
   "source": [
    "# Custom positive semidefinite kernel\n",
    "class CustomKernel(psd_kernels.PositiveSemidefiniteKernel):\n",
    "    def __init__(self,feature_ndims=1, parameters=None,dtype=None, name='Custom_Kernel', validate_args=False):\n",
    "        super().__init__(feature_ndims, dtype, name, validate_args, parameters)\n",
    "        self.amplitude = parameters['amp']\n",
    "        self.length_scales = parameters['scales']\n",
    "        self.family = parameters['family']\n",
    "    def _apply(self,x,y,example_ndims):\n",
    "        scaled_diff = (x-y)/self.length_scales\n",
    "        if (self.family == 'M52'): return self._apply_M52(scaled_diff)\n",
    "        if (self.family == 'M32'): return self._apply_M32(scaled_diff)\n",
    "        return self._apply_SE(scaled_diff)\n",
    "    \n",
    "    def _apply_SE(self,diff):\n",
    "        return self.amplitude*tf.exp(-tf.math.reduce_sum(diff**2/2,axis=-1))\n",
    "    \n",
    "    def _apply_M52(self,diff):\n",
    "        prod_element = (1+np.sqrt(5)*diff+5*(diff**2)/3)*tf.math.exp(-np.sqrt(5)*tf.math.abs(diff))\n",
    "        return self.amplitude*tf.reduce_prod(prod_element,axis=-1)\n",
    "        \n",
    "    def _apply_M32(self,diff):\n",
    "        prod_element = (1+np.sqrt(3)*diff)*tf.math.exp(-np.sqrt(3)*diff)\n",
    "        return self.amplitude*tf.reduce_prod(prod_element,axis=-1)\n",
    "    \n",
    "    def _batch_shape(self):\n",
    "        scalar_shape = tf.TensorShape([])\n",
    "        return scalar_shape\n",
    "\n",
    "    def _batch_shape_tensor(self):\n",
    "        return tf.convert_to_tensor(self.batch_shape, dtype=tf.int32, name='batch_shape')"
   ]
  },
  {
   "cell_type": "code",
   "execution_count": 4,
   "metadata": {},
   "outputs": [],
   "source": [
    "# Functions generating training and test data\n",
    "\n",
    "def training_data(pricing_model,tau_,stock_):\n",
    "    grid = [(t,s) for t in tau_ for s in stock_]\n",
    "    grid = np.asarray(grid)\n",
    "    \n",
    "    prices = pricing_model.price(grid[:,1],grid[:,0])\n",
    "    deltas = pricing_model.delta(grid[:,1],grid[:,0])\n",
    "    \n",
    "    df_train = pd.DataFrame(data=[grid[:,0],grid[:,1],prices,deltas]).T\n",
    "    df_train.columns=['Tau','Stock','Price','Delta']\n",
    "    \n",
    "    X_ = tf.constant(df_train.iloc[:,:2],dtype =tf.float64)\n",
    "    y_ = tf.constant(df_train.iloc[:,2],dtype=tf.float64)\n",
    "    return X_, y_\n",
    "\n",
    "def test_data(pricing_model,tau,stock_):\n",
    "    tau_slice = tau*np.ones(len(stock_))\n",
    "    x_test = np.vstack([tau_slice,test_stocks]).T\n",
    "    y_test = pricing_model.price(stock_,tau_slice)\n",
    "    \n",
    "    return x_test, y_test"
   ]
  },
  {
   "cell_type": "code",
   "execution_count": 5,
   "metadata": {},
   "outputs": [],
   "source": [
    "class GP_model(tfp.distributions.GaussianProcess):\n",
    "    def __init__(self,kernel, index_points=None, mean_fn=None,beta = (), observation_noise_variance=0.0,\\\n",
    "                jitter=1e-06, validate_args=False, allow_nan_stats=False, name='GP'):\n",
    "        super().__init__(kernel, index_points, mean_fn, observation_noise_variance,jitter, validate_args, allow_nan_stats, name)\n",
    "        self.hyperparam = self.trainable_variables + beta\n",
    "    @tf.function\n",
    "    def optimize(self,y_,optimizer):        \n",
    "        with tf.GradientTape() as tape:\n",
    "            loss = -self.log_prob(y_)\n",
    "        grads = tape.gradient(loss, self.hyperparam)\n",
    "        optimizer.apply_gradients(zip(grads, self.hyperparam))\n",
    "        del tape\n",
    "        return loss\n",
    "    \n",
    "    def fit(self,y_,optimizer = tf.optimizers.Adam(),n_iters = 2000, verbose = True):\n",
    "        for i in range(n_iters):\n",
    "            neg_log_likelihood = self.optimize(y_,optimizer)\n",
    "            if i % 200 == 0 and verbose:\n",
    "                print(\"Step {}: NLL = {}\".format(i, neg_log_likelihood))\n",
    "        print(\"Final NLL = {}\".format(neg_log_likelihood))\n",
    "\n",
    "class GPR_model(tfp.distributions.GaussianProcessRegressionModel):\n",
    "    def __init__(self,kernel,index_points = None ,observation_index_points = None ,observations = None,\\\n",
    "                observation_noise_variance = 0.0,predictive_noise_variance=None, mean_fn=None,\\\n",
    "                jitter=1e-06, validate_args=False, allow_nan_stats=False,name='GPR_Model'):\n",
    "        \n",
    "        super().__init__(kernel, index_points, observation_index_points, observations,\\\n",
    "                        observation_noise_variance, predictive_noise_variance, mean_fn,jitter, validate_args, allow_nan_stats,name)\n",
    "        self.prior_kernel = kernel\n",
    "    def price(self): return self.mean()\n",
    "    \n",
    "    def gradient(self):\n",
    "        with tf.GradientTape() as tape:\n",
    "            tape.watch(self.index_points)\n",
    "            p_hat = self.price()\n",
    "        grad = tape.gradient(p_hat,self.index_points)\n",
    "        del tape\n",
    "        return grad\n",
    "    \n",
    "    def delta(self): return self.gradient()[:,-1]    \n",
    "    def theta(self): return -self.gradient()[:,0]\n",
    "    \n",
    "    def ddk_dS2(self,x_,y_,i = 1):\n",
    "        l = self.prior_kernel.length_scales[i]\n",
    "        return (1-1/l**2*(x_[:,i]-y_[:,i])**2)/l**2*self.prior_kernel.tensor(x_,y_,1,1)\n",
    "    @tf.function\n",
    "    def K_g(self,stock = True): \n",
    "        dim = len(self.observation_index_points)\n",
    "        inverse_matrix = tf.linalg.inv(self.prior_kernel.tensor(self.observation_index_points,self.observation_index_points,1,1)\\\n",
    "                    + self.observation_noise_variance*tf.eye(dim,dtype=tf.float64))\n",
    "        with tf.GradientTape() as tape:\n",
    "            tape.watch(self.index_points)\n",
    "            kappa = self.prior_kernel.matrix(self.index_points,self.observation_index_points)\n",
    "        jac = tape.batch_jacobian(kappa,self.index_points)\n",
    "        \n",
    "        if stock: dkappa = jac[:,:,-1]\n",
    "        else : dkappa = jac[:,:,0]\n",
    "        term1 = self.ddk_dS2(self.index_points,self.index_points,0+stock)\n",
    "        term2 = dkappa@inverse_matrix@tf.transpose(dkappa)\n",
    "        \n",
    "        return term1 - term2\n",
    "    \n",
    "    def V_g(self,stock = True):\n",
    "        i = stock + 0\n",
    "        temp1 = tf.identity(self.index_points)\n",
    "        temp2 = tf.identity(self.index_points)\n",
    "        with tf.GradientTape() as tape2:\n",
    "            tape2.watch(temp2)\n",
    "            with tf.GradientTape() as tape1:\n",
    "                tape1.watch(temp1)\n",
    "                K_star = self.kernel.apply(temp1, temp2)\n",
    "            dK_star = tape1.gradient(K_star, temp1)[:,i]\n",
    "        d2K_star = tape2.gradient(dK_star, temp2)[:,i]\n",
    "        return d2K_star\n",
    "    \n",
    "    def bounds_price(self,confidence):\n",
    "        z = si.norm.ppf((confidence+1)/2)\n",
    "        return self.mean() - z*np.sqrt(self.variance()), self.mean() + z*np.sqrt(self.variance())\n",
    "    \n",
    "    def bounds_delta(self,confidence):\n",
    "        z = si.norm.ppf((confidence+1)/2)\n",
    "        return self.delta() - z*np.sqrt(self.V_g()), self.delta() + z*np.sqrt(self.V_g())\n",
    "\n",
    "    def bounds_theta(self,confidence):\n",
    "        z = si.norm.ppf((confidence+1)/2)\n",
    "        return self.theta() - z*np.sqrt(self.V_g(False)), self.theta() + z*np.sqrt(self.V_g(False))\n",
    "    \n",
    "    def plot_price(self,true_price,bounds = True,confidence = 0.95):\n",
    "        lBound , uBound = self.bounds_price(confidence)\n",
    "        return self.plot(self.price(),true_price,bounds,confidence,lBound,uBound)\n",
    "    \n",
    "    def plot_delta(self,true_delta,bounds= True,confidence = 0.95):\n",
    "        lBound , uBound = self.bounds_delta(confidence)\n",
    "        return self.plot(self.delta(),true_delta,bounds,confidence,lBound,uBound)\n",
    "    \n",
    "    def plot_theta(self,true_theta,bounds= True,confidence = 0.95):\n",
    "        lBound , uBound = self.bounds_theta(confidence)\n",
    "        return self.plot(self.theta(),true_theta,bounds,confidence,lBound,uBound)\n",
    "    \n",
    "    def plot(self,true_values,y_pred,bounds,confidence,u_bound,l_bound):\n",
    "        test_stocks = self.index_points[:,-1]\n",
    "        lBound = l_bound\n",
    "        uBound = u_bound\n",
    "        plt.plot(test_stocks,true_values)\n",
    "        plt.scatter(test_stocks,y_pred,color='red')\n",
    "        if bounds:\n",
    "            plt.plot(test_stocks,lBound,'--',color='black',linewidth=1)\n",
    "            plt.plot(test_stocks,uBound,'--',color='black',linewidth=1)\n",
    "        plt.show()"
   ]
  },
  {
   "cell_type": "code",
   "execution_count": 6,
   "metadata": {},
   "outputs": [],
   "source": [
    "class GPR_analytical():\n",
    "    def __init__(self,kernel,data,labels,mean_fn,noise,test_data=None):\n",
    "        self.kernel = kernel\n",
    "        self.X = data\n",
    "        self.y = labels\n",
    "        self.mean_fn = mean_fn\n",
    "        self.sigma = noise\n",
    "        self.X_test = test_data\n",
    "        self.inv_matrix = tf.linalg.inv(self.kernel.tensor(data,data,1,1)+\\\n",
    "                                        noise*tf.eye(len(data),dtype=tf.float64))\n",
    "        self.K = self.kernel.matrix(test_data,data)\n",
    "        \n",
    "    def set_test_data(self,test_data):\n",
    "        self.X_test = test_data\n",
    "        self.K = self.kernel.matrix(test_data,self.X)\n",
    "        \n",
    "    def price(self):\n",
    "        term_1 = self.mean_fn(self.X_test)\n",
    "        term_2 = self.K@self.inv_matrix@tf.reshape((self.y-self.mean_fn(self.X)),[len(y),1])\n",
    "        \n",
    "        return term_1 + tf.squeeze(term_2)\n",
    "    \n",
    "    def covariance(self):\n",
    "        term_1 = self.kernel.matrix(self.X_test,self.X_test)      \n",
    "        term_2 = self.K@self.inv_matrix@tf.transpose(self.K)\n",
    "        \n",
    "        return term_1-term_2\n",
    "    \n",
    "    def variance(self): return tf.linalg.diag_part(self.covariance())\n",
    "    \n",
    "    def dk_dS(self,x_,y_):\n",
    "        reshaped = tf.transpose(tf.broadcast_to(y_[:,-1],[len(x_),len(y_)]))\n",
    "        l_stock = self.kernel.length_scales[-1]\n",
    "        \n",
    "        return tf.transpose((reshaped-x_[:,-1]))/l_stock**2\\\n",
    "                *self.kernel.tensor(x_,y_,1,1)\n",
    "    \n",
    "    def dk_dt(self,x_,y_):\n",
    "        reshaped = tf.transpose(tf.broadcast_to(y_[:,0],[len(x_),len(y_)]))\n",
    "        l_time = self.kernel.length_scales[0]\n",
    "        return tf.transpose((reshaped-x_[:,0]))/l_time**2\\\n",
    "                *self.kernel.tensor(x_,y_,1,1)\n",
    "    \n",
    "    def delta(self):\n",
    "        b_1 = self.mean_fn(np.array([[0.,1.]]))-self.mean_fn(np.array([[0.,0.]]))\n",
    "        term_2 = self.dk_dS(self.X_test,self.X)@self.inv_matrix@\\\n",
    "                tf.reshape((self.y-self.mean_fn(self.X)),[len(y),1])\n",
    "        \n",
    "        return tf.squeeze(b_1+term_2)\n",
    "    \n",
    "    def theta(self):\n",
    "        term_2 = self.dk_dt(self.X_test,self.X)@self.inv_matrix@\\\n",
    "                tf.reshape((self.y-self.mean_fn(self.X)),[len(y),1])\n",
    "        return -tf.squeeze(term_2)\n",
    "    \n",
    "    def ddk_dS2(self,x_,y_):\n",
    "        l_stock = self.kernel.length_scales[-1]\n",
    "        coef = (1-1/l_stock**2*(x_[:,-1]-y_[:,-1])**2)/l_stock**2\n",
    "        return coef*self.kernel.tensor(x_,y_,1,1)\n",
    "    \n",
    "    def K_g(self):\n",
    "        term_1 = self.ddk_dS2(self.X_test,self.X_test)\n",
    "        term_2 = self.dk_dS(self.X_test,self.X)@self.inv_matrix@tf.transpose(self.dk_dS(self.X_test,self.X))\n",
    "        \n",
    "        return term_1 - term_2\n",
    "    def V_g(self): return tf.linalg.diag_part(self.K_g())\n",
    "    \n",
    "    def upper_bound(self,confidence):\n",
    "        z = si.norm.ppf((confidence+1)/2)\n",
    "        return self.delta() + z*np.sqrt(self.V_g())\n",
    "    def lower_bound(self,confidence):\n",
    "        z = si.norm.ppf((confidence+1)/2)\n",
    "        return self.delta() - z*np.sqrt(self.V_g())\n",
    "    \n",
    "    def plot_price(self,true_price,confidence=0.95,bounds=True):\n",
    "        test_stocks = self.X_test[:,-1]\n",
    "        plt.plot(test_stocks,true_price)\n",
    "        plt.scatter(test_stocks,self.price(),marker = 'o',color='red')\n",
    "#         if bounds:\n",
    "#             plt.plot(test_stocks,self.upper_bound(confidence),'--',color='black',linewidth = 1)\n",
    "#             plt.plot(test_stocks,self.lower_bound(confidence),'--',color='black',linewidth = 1)\n",
    "        plt.show()\n",
    "    \n",
    "    def plot_delta(self,true_delta,confidence=0.95,bounds=True):\n",
    "        test_stocks = self.X_test[:,-1]\n",
    "        plt.plot(test_stocks,true_delta)\n",
    "        plt.scatter(test_stocks,self.delta(),marker = 'o',color='red')\n",
    "        if bounds:\n",
    "            plt.plot(test_stocks,self.upper_bound(confidence),'--',color='black',linewidth = 1)\n",
    "            plt.plot(test_stocks,self.lower_bound(confidence),'--',color='black',linewidth = 1)\n",
    "        plt.show()"
   ]
  },
  {
   "cell_type": "code",
   "execution_count": null,
   "metadata": {
    "jupyter": {
     "source_hidden": true
    }
   },
   "outputs": [],
   "source": [
    "T=0.4\n",
    "S_min = 30\n",
    "S_max = 70\n",
    "t_space = np.linspace(0,0.4,20)\n",
    "S_space = np.linspace(30, 70, 20)\n",
    "\n",
    "space = []\n",
    "for t in t_space:\n",
    "    for S in S_space:\n",
    "        space.append([t, S])\n",
    "\n",
    "#50 virtual data points\n",
    "for S in [71,72]:\n",
    "    for t in np.linspace(0,T,10):\n",
    "        space.append([t,S])\n",
    "for S in [28,29]:\n",
    "    for t in np.linspace(0,T,10):\n",
    "        space.append([t,S])\n",
    "for S in np.linspace(S_min,S_max,10):\n",
    "    for t in [T]:\n",
    "        space.append([t,S])\n",
    "        \n",
    "space_frame = pd.DataFrame(space,columns=['t', 'S'])\n",
    "space_frame.head()\n",
    "tau = np.array(space_frame.iloc[:,0])\n",
    "stock = np.array(space_frame.iloc[:,1])\n",
    "\n",
    "X = np.zeros([450,2])\n",
    "X[:,0] = tau\n",
    "X[:,1] = stock"
   ]
  },
  {
   "cell_type": "code",
   "execution_count": 16,
   "metadata": {},
   "outputs": [],
   "source": [
    "#Define pricing model and training data grid \n",
    "bs_model = Black_Scholes()\n",
    "stock = np.linspace(32,68,10,dtype=np.float64)\n",
    "tau = np.linspace(0.04,0.4,10,dtype= np.float64)\n",
    "X,y = training_data(bs_model,tau,stock)\n",
    "\n",
    "#Define trainable variables\n",
    "b0 = tf.Variable(-15,dtype=tf.float64, name = 'b0')\n",
    "b = tf.Variable([[1,1]],dtype=tf.float64, name= 'b12')\n",
    "b1 = tf.Variable([1],dtype=tf.float64, name= 'b1')\n",
    "b2 = tf.Variable([1],dtype=tf.float64, name= 'b2')\n",
    "\n",
    "process_variance = 100#237\n",
    "noise_variance = 0.0001\n",
    "length_scales = [0.3,5]#[0.626,10]\n",
    "\n",
    "sp = tf.Variable(process_variance,dtype=tf.float64, name = 'sigma_process')\n",
    "sn2 = tf.Variable(noise_variance,dtype=tf.float64,name = 'sigma_noise2',constraint= lambda x: x**2)\n",
    "scales = [tf.Variable(length_scales[0],dtype=tf.float64 ,name = 'l1'),tf.Variable(length_scales[1],dtype=tf.float64 ,name = 'l2')]\n",
    "\n",
    "#Define custom kernel\n",
    "kernel_family = 'SE'\n",
    "param ={'amp' : sp , 'scales': scales,'family' : kernel_family}\n",
    "my_kernel = CustomKernel(1,parameters = param)\n",
    "\n",
    "\n",
    "def mean_f(x): return tf.squeeze(b0 + tf.linalg.matmul(x, b, transpose_b=True))\n",
    "def mean_f(x): return b0 + b1*x[:,0] + b2*x[:,-1]"
   ]
  },
  {
   "cell_type": "code",
   "execution_count": 17,
   "metadata": {},
   "outputs": [],
   "source": [
    "#Define test data\n",
    "test_stocks = np.linspace(34,62,25)\n",
    "tau = 0.2\n",
    "X_test, y_test = test_data(bs_model,tau,test_stocks)\n",
    "delta_test = bs_model.delta(test_stocks,tau)\n",
    "theta_test = bs_model.theta(test_stocks,tau)\n",
    "#test_stocks"
   ]
  },
  {
   "cell_type": "code",
   "execution_count": 18,
   "metadata": {},
   "outputs": [
    {
     "name": "stdout",
     "output_type": "stream",
     "text": [
      "Step 0: NLL = -93.65410928668071\n",
      "Step 200: NLL = -188.6190684156958\n",
      "Step 400: NLL = -188.8513347066568\n",
      "Step 600: NLL = -189.0062061261014\n",
      "Step 800: NLL = -189.15936028467496\n",
      "Step 1000: NLL = -189.31939696464357\n",
      "Step 1200: NLL = -189.48674486602405\n",
      "Step 1400: NLL = -189.66101255949587\n",
      "Step 1600: NLL = -189.8419249348015\n",
      "Step 1800: NLL = -190.02933242007848\n",
      "Final NLL = -190.22218296048368\n"
     ]
    }
   ],
   "source": [
    "#Define and fit the model\n",
    "GP = GP_model(my_kernel, index_points=X,mean_fn=mean_f, beta=(b0,b1,b2),observation_noise_variance=1e-4,jitter=1e-06, name='GP')\n",
    "GP.fit(y,n_iters=2000,verbose=True,optimizer = tf.optimizers.Adam(0.01))"
   ]
  },
  {
   "cell_type": "code",
   "execution_count": 21,
   "metadata": {},
   "outputs": [
    {
     "data": {
      "text/plain": [
       "(<tf.Variable 'sigma_process:0' shape=() dtype=float64, numpy=80.46416376448481>,\n",
       " <tf.Variable 'l1:0' shape=() dtype=float64, numpy=0.9177395992145404>,\n",
       " <tf.Variable 'l2:0' shape=() dtype=float64, numpy=5.824409400945904>,\n",
       " <tf.Variable 'b0:0' shape=() dtype=float64, numpy=-17.337296767221318>,\n",
       " <tf.Variable 'b1:0' shape=(1,) dtype=float64, numpy=array([2.21961678])>,\n",
       " <tf.Variable 'b2:0' shape=(1,) dtype=float64, numpy=array([0.46687263])>)"
      ]
     },
     "execution_count": 21,
     "metadata": {},
     "output_type": "execute_result"
    }
   ],
   "source": [
    "GP.hyperparam"
   ]
  },
  {
   "cell_type": "code",
   "execution_count": 19,
   "metadata": {},
   "outputs": [],
   "source": [
    "#Define a GP Regression model with learned parameters\n",
    "GPR = GPR_model(my_kernel,X_test,X,y,observation_noise_variance=sn2,predictive_noise_variance=None,mean_fn=mean_f,jitter=1e-6)\n",
    "aGPR = GPR_analytical(my_kernel,X,y,mean_f,sn2,X_test)"
   ]
  },
  {
   "cell_type": "code",
   "execution_count": 20,
   "metadata": {},
   "outputs": [
    {
     "data": {
      "image/png": "[encoded data removed]",
      "text/plain": [
       "<Figure size 432x288 with 1 Axes>"
      ]
     },
     "metadata": {
      "needs_background": "light"
     },
     "output_type": "display_data"
    },
    {
     "data": {
      "image/png": "[encoded data removed]",
      "text/plain": [
       "<Figure size 432x288 with 1 Axes>"
      ]
     },
     "metadata": {
      "needs_background": "light"
     },
     "output_type": "display_data"
    }
   ],
   "source": [
    "GPR.plot_price(y_test,bounds=True)\n",
    "GPR.plot_delta(delta_test,bounds=True)\n",
    "#aGPR.plot_delta(delta_test)"
   ]
  },
  {
   "cell_type": "code",
   "execution_count": 22,
   "metadata": {},
   "outputs": [],
   "source": [
    "#Data from section 2.5 in paper\n",
    "new_sp = tf.Variable(239.71,dtype=tf.float64)\n",
    "new_scales = tf.Variable([0.626,10],dtype=tf.float64)\n",
    "new_sn = tf.Variable(1.99e-04,dtype=tf.float64)\n",
    "new_b0 = tf.constant(-20.04,tf.float64)\n",
    "new_b1 = tf.constant(0.58,tf.float64)\n",
    "new_kernel = CustomKernel(1,parameters={'amp': new_sp, 'scales': new_scales,'family':'SE'})\n",
    "def new_mean_f(x): return new_b0 + new_b1 * x[:,-1]\n",
    "def const_mean(x): return 0\n",
    "\n",
    "aGPR = GPR_analytical(new_kernel,X,y,new_mean_f,new_sn,X_test)\n",
    "the_GPR = GPR_model(new_kernel,X_test,X,y,new_sn,mean_fn=new_mean_f,predictive_noise_variance=None,jitter = 1e-6)"
   ]
  },
  {
   "cell_type": "code",
   "execution_count": null,
   "metadata": {
    "jupyter": {
     "source_hidden": true
    }
   },
   "outputs": [],
   "source": [
    "XX = tf.constant(X_test,dtype=tf.float64)\n",
    "a = tf.identity(XX)#XX[0:2,:]\n",
    "b= tf.identity(XX)#[0:2,:]\n",
    "\n",
    "a = XX[0,:]\n",
    "b = XX[1,:]\n",
    "\n",
    "with tf.GradientTape() as gg:\n",
    "    gg.watch(b)\n",
    "    with tf.GradientTape() as g:\n",
    "        g.watch(a)\n",
    "        K_0 = the_GPR.kernel.apply(a,b)\n",
    "    dy_dx = g.gradient(K_0, a)[-1]\n",
    "d2y_dx2 = gg.gradient(dy_dx, b)\n",
    "\n",
    "#dy_dx[:,:,-1]\n",
    "print(dy_dx)\n",
    "d2y_dx2#[:,:,-1]"
   ]
  },
  {
   "cell_type": "code",
   "execution_count": 27,
   "metadata": {},
   "outputs": [
    {
     "data": {
      "image/png": "[encoded data removed]",
      "text/plain": [
       "<Figure size 432x288 with 1 Axes>"
      ]
     },
     "metadata": {
      "needs_background": "light"
     },
     "output_type": "display_data"
    },
    {
     "data": {
      "image/png": "[encoded data removed]",
      "text/plain": [
       "<Figure size 432x288 with 1 Axes>"
      ]
     },
     "metadata": {
      "needs_background": "light"
     },
     "output_type": "display_data"
    }
   ],
   "source": [
    "aGPR.plot_delta(delta_test,bounds = True)\n",
    "\n",
    "the_GPR.plot_theta(theta_test)"
   ]
  },
  {
   "cell_type": "code",
   "execution_count": null,
   "metadata": {},
   "outputs": [],
   "source": [
    "GPP = GP_model(new_kernel,X,observation_noise_variance=new_sn)\n",
    "GPP.log_prob(y)"
   ]
  },
  {
   "cell_type": "code",
   "execution_count": null,
   "metadata": {},
   "outputs": [],
   "source": []
  }
 ],
 "metadata": {
  "kernelspec": {
   "display_name": "Python 3",
   "language": "python",
   "name": "python3"
  },
  "language_info": {
   "codemirror_mode": {
    "name": "ipython",
    "version": 3
   },
   "file_extension": ".py",
   "mimetype": "text/x-python",
   "name": "python",
   "nbconvert_exporter": "python",
   "pygments_lexer": "ipython3",
   "version": "3.7.5"
  }
 },
 "nbformat": 4,
 "nbformat_minor": 4
}
