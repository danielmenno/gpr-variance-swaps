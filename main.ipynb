{
 "cells": [
  {
   "cell_type": "code",
   "execution_count": 1,
   "metadata": {},
   "outputs": [],
   "source": [
    "# Imports \n",
    "import numpy as np\n",
    "import pandas as pd\n",
    "import matplotlib.pyplot as plt\n",
    "import tensorflow as tf\n",
    "from tensorflow import keras\n",
    "import tensorflow_probability as tfp\n",
    "tfb = tfp.bijectors\n",
    "from gp_models import CustomKernel,GP_model, GPR_model, GPR_analytical\n",
    "from pricing_models import Black_Scholes, LVM\n",
    "from data import training_data, test_data"
   ]
  },
  {
   "cell_type": "code",
   "execution_count": 2,
   "metadata": {},
   "outputs": [],
   "source": [
    "#Define pricing model and training data grid \n",
    "\n",
    "#Illustration section 2.5\n",
    "bs_model = Black_Scholes()\n",
    "X,y,df = training_data(bs_model,S_min = 32,S_max = 68,N_points=100,halton=True,virtual=False,mc=True,nsim=5000)\n",
    "\n",
    "#KrigHedge demo from appendix\n",
    "# df_demo = pd.read_csv('demoData.csv')\n",
    "# df_demo.rename({'price': 'mc_price','price_anal':'price'},axis=1,inplace = True)\n",
    "# X1 = np.array(df_demo.iloc[:400,:2])\n",
    "# X2 = np.array(df_demo.iloc[400:,:2])\n",
    "# y1 = np.array(df_demo.mc_price[:400])\n",
    "# y2 = np.array(df_demo.mc_price[400:])\n",
    "# X = np.concatenate((X1,X2))\n",
    "# y = np.concatenate((y1,y2))\n"
   ]
  },
  {
   "cell_type": "code",
   "execution_count": 3,
   "metadata": {},
   "outputs": [],
   "source": [
    "#Define trainable variables\n",
    "\n",
    "#Mean function variables\n",
    "b0 = tf.Variable(0,dtype=tf.float64, name = 'b0')\n",
    "b = tf.Variable([[1,1]],dtype=tf.float64, name= 'b12')\n",
    "b1 = tf.Variable([1],dtype=tf.float64, name= 'b1')\n",
    "b2 = tf.Variable([0],dtype=tf.float64, name= 'b2')\n",
    "#Kernel variables\n",
    "process_variance = 100\n",
    "noise_variance = 0.0001\n",
    "length_scales =[1,20]\n",
    "sp = tfp.util.TransformedVariable(process_variance, tfb.Exp(), dtype=tf.float64, name='sigma_process')\n",
    "sn2 = tfp.util.TransformedVariable(noise_variance, tfb.Exp(), dtype=tf.float64, name='sigma_noise2')\n",
    "scales = tf.Variable(length_scales,constraint = lambda x: tf.clip_by_value(x,[0.1,10],[2,50]),dtype=tf.float64, name = 'length_scales')\n",
    "\n",
    "#Define custom kernel\n",
    "kernel_family = 'M52'\n",
    "param ={'amp' : sp , 'scales': scales,'family' : kernel_family}\n",
    "my_kernel = CustomKernel(1,parameters = param)\n",
    "#Define mean function\n",
    "def mean_f(x): return tf.squeeze(b0 + tf.linalg.matmul(x, b, transpose_b=True))\n",
    "def mean_f(x): return b0 + b2*x[:,-1] # + b1*x[:,0]"
   ]
  },
  {
   "cell_type": "code",
   "execution_count": 4,
   "metadata": {},
   "outputs": [],
   "source": [
    "#Define test data\n",
    "test_stocks = np.linspace(30,70,29)\n",
    "tau = 0.2\n",
    "X_test, y_test = test_data(bs_model,tau,test_stocks)\n",
    "delta_test = bs_model.delta(test_stocks,tau)\n",
    "theta_test = bs_model.theta(test_stocks,tau)\n",
    "#test_stocks"
   ]
  },
  {
   "cell_type": "code",
   "execution_count": 5,
   "metadata": {},
   "outputs": [
    {
     "name": "stderr",
     "output_type": "stream",
     "text": [
      "Progress:   0%|                                         | 0/600 [00:00<?, ?it/s]"
     ]
    },
    {
     "name": "stdout",
     "output_type": "stream",
     "text": [
      "WARNING:tensorflow:From /Library/Frameworks/Python.framework/Versions/3.7/lib/python3.7/site-packages/tensorflow/python/ops/linalg/linear_operator_lower_triangular.py:158: calling LinearOperator.__init__ (from tensorflow.python.ops.linalg.linear_operator) with graph_parents is deprecated and will be removed in a future version.\n",
      "Instructions for updating:\n",
      "Do not pass `graph_parents`.  They will  no longer be used.\n",
      "WARNING:tensorflow:From /Library/Frameworks/Python.framework/Versions/3.7/lib/python3.7/site-packages/tensorflow/python/ops/math_grad.py:297: setdiff1d (from tensorflow.python.ops.array_ops) is deprecated and will be removed after 2018-11-30.\n",
      "Instructions for updating:\n",
      "This op will be removed after the deprecation date. Please switch to tf.sets.difference().\n"
     ]
    },
    {
     "name": "stderr",
     "output_type": "stream",
     "text": [
      "Progress:  10%|###2                            | 60/600 [00:01<04:55,  1.83it/s]"
     ]
    },
    {
     "name": "stdout",
     "output_type": "stream",
     "text": [
      "Step 0: NLL = 300.15734195628784\n"
     ]
    },
    {
     "name": "stderr",
     "output_type": "stream",
     "text": [
      "Progress:  44%|#############7                 | 267/600 [00:02<00:22, 14.86it/s]"
     ]
    },
    {
     "name": "stdout",
     "output_type": "stream",
     "text": [
      "Step 200: NLL = -87.79075319913244\n"
     ]
    },
    {
     "name": "stderr",
     "output_type": "stream",
     "text": [
      "Progress:  75%|#######################1       | 448/600 [00:02<00:02, 70.79it/s]"
     ]
    },
    {
     "name": "stdout",
     "output_type": "stream",
     "text": [
      "Step 400: NLL = -88.6310133280418\n"
     ]
    },
    {
     "name": "stderr",
     "output_type": "stream",
     "text": [
      "Progress: 100%|##############################| 600/600 [00:03<00:00, 196.70it/s]"
     ]
    },
    {
     "name": "stdout",
     "output_type": "stream",
     "text": [
      "Final NLL = -88.75841744743056\n",
      "\n",
      "## Trained Hyperparameters ##\n",
      "\n",
      "<tf.Variable 'b0:0' shape=() dtype=float64, numpy=-16.817844436750708> <tf.Variable 'b2:0' shape=(1,) dtype=float64, numpy=array([0.50051216])>\n",
      "<TransformedVariable: dtype=float64, shape=[], fn=\"exp\", numpy=8.74139770180425>\n",
      "<tf.Variable 'length_scales:0' shape=(2,) dtype=float64, numpy=array([ 0.88804004, 15.07675432])>\n",
      "<TransformedVariable: dtype=float64, shape=[], fn=\"exp\", numpy=0.0025039801532659466>\n"
     ]
    },
    {
     "name": "stderr",
     "output_type": "stream",
     "text": [
      "\n"
     ]
    }
   ],
   "source": [
    "#Define and fit the model\n",
    "GP = GP_model(my_kernel, index_points=X,mean_fn=mean_f, beta=(b0,b2),observation_noise_variance=sn2,jitter=1e-06, name='GP')\n",
    "GP.fit(y,n_iters=600,verbose=True,optimizer = tf.optimizers.Adam(0.1))\n",
    "print('\\n## Trained Hyperparameters ##\\n')\n",
    "print(b0,b2)\n",
    "print(sp)\n",
    "print(scales)\n",
    "print(sn2)\n",
    "#GP.hyperparam"
   ]
  },
  {
   "cell_type": "code",
   "execution_count": 6,
   "metadata": {},
   "outputs": [],
   "source": [
    "#Define a GP Regression model with learned parameters\n",
    "GPR = GPR_model(my_kernel,X_test,X,y,observation_noise_variance=sn2,predictive_noise_variance=None,mean_fn=mean_f,jitter=1e-6)"
   ]
  },
  {
   "cell_type": "code",
   "execution_count": 7,
   "metadata": {},
   "outputs": [
    {
     "data": {
      "image/png": "[encoded data removed]",
      "text/plain": [
       "<Figure size 432x288 with 1 Axes>"
      ]
     },
     "metadata": {
      "needs_background": "light"
     },
     "output_type": "display_data"
    },
    {
     "data": {
      "image/png": "[encoded data removed]",
      "text/plain": [
       "<Figure size 432x288 with 1 Axes>"
      ]
     },
     "metadata": {
      "needs_background": "light"
     },
     "output_type": "display_data"
    }
   ],
   "source": [
    "#Plot the estimates for the option price, delta and theta\n",
    "GPR.plot_price(y_test,bounds=True)\n",
    "GPR.plot_delta(delta_test,bounds=True,fig_name = 'Figures/matern52_halton_mc.pdf')\n",
    "GPR.isTimeToMaturity = True\n",
    "#GPR.plot_theta(theta_test)#,fig_name = 'Figures/illustration_theta_mc.pdf')\n",
    "#aGPR.plot_delta(delta_test)"
   ]
  },
  {
   "cell_type": "code",
   "execution_count": 8,
   "metadata": {},
   "outputs": [
    {
     "data": {
      "text/plain": [
       "<tf.Tensor: shape=(29,), dtype=float64, numpy=\n",
       "array([0.01638105, 0.00618118, 0.00094348, 0.0003409 , 0.00032768,\n",
       "       0.00029214, 0.0003143 , 0.00032931, 0.00031774, 0.0003048 ,\n",
       "       0.00029973, 0.00029931, 0.00030591, 0.00030944, 0.00030639,\n",
       "       0.00030535, 0.00031564, 0.00030479, 0.0003152 , 0.00029157,\n",
       "       0.00031871, 0.00029882, 0.00030848, 0.00031033, 0.00035075,\n",
       "       0.00037782, 0.00113846, 0.00705994, 0.01762135])>"
      ]
     },
     "execution_count": 8,
     "metadata": {},
     "output_type": "execute_result"
    }
   ],
   "source": [
    "aGPR = GPR_analytical(my_kernel,X,y,mean_f,sn2,X_test)\n",
    "aGPR.V_g()"
   ]
  },
  {
   "cell_type": "code",
   "execution_count": 7,
   "metadata": {},
   "outputs": [
    {
     "data": {
      "text/plain": [
       "<tf.Tensor: shape=(29,), dtype=float64, numpy=\n",
       "array([0.01638189, 0.00618183, 0.00094372, 0.00034096, 0.00032774,\n",
       "       0.0002922 , 0.00031436, 0.00032936, 0.0003178 , 0.00030486,\n",
       "       0.00029979, 0.00029937, 0.00030596, 0.0003095 , 0.00030645,\n",
       "       0.00030541, 0.00031569, 0.00030485, 0.00031526, 0.00029163,\n",
       "       0.00031877, 0.00029887, 0.00030854, 0.00031039, 0.00035082,\n",
       "       0.00037788, 0.00113871, 0.00706054, 0.01762209])>"
      ]
     },
     "execution_count": 7,
     "metadata": {},
     "output_type": "execute_result"
    }
   ],
   "source": [
    "GPR.V_g()"
   ]
  },
  {
   "cell_type": "code",
   "execution_count": 19,
   "metadata": {},
   "outputs": [
    {
     "name": "stdout",
     "output_type": "stream",
     "text": [
      "### METRIC 1: Root Mean Squared Error ###\n",
      "RMSE =  0.07977313447865512\n",
      "\n",
      "### METRIC 3: Median Absolute Deviation ###\n",
      "MAD =  0.013804223707270857\n",
      "\n",
      "### METRIC 4: Coverage ###\n",
      "Cvr =  1.0\n",
      "\n",
      "### METRIC 5: Negative Log Probability Density ###\n",
      "NLPD =  -5.223518137786679\n"
     ]
    }
   ],
   "source": [
    "# Metrics for Delta\n",
    "\n",
    "my_GPR = GPR\n",
    "\n",
    "# 1. RMSE error\n",
    "print('### METRIC 1: Root Mean Squared Error ###')\n",
    "from sklearn.metrics import mean_squared_error as mse\n",
    "rmse = np.sqrt(mse(delta_test,my_GPR.delta()))\n",
    "print('RMSE = ', rmse)\n",
    "\n",
    "# 2. Profit and Loss\n",
    "# print('\\n### METRIC 2: Profit and Loss ###')\n",
    "# from my_metrics import PnL\n",
    "# paths = bs_model.generate_paths(200,mu=0.06,N=20,S0=50,normal=True,var=2)\n",
    "# pnl = PnL(paths,bs_model,my_kernel,X,y,mean_f,l=2)\n",
    "# print('Pnl = ', pnl)\n",
    "\n",
    "# 3. Median Absolute Deviation\n",
    "print('\\n### METRIC 3: Median Absolute Deviation ###')\n",
    "mad = np.median(np.abs(delta_test-my_GPR.delta()))\n",
    "print('MAD = ', mad)\n",
    "\n",
    "# 4. Coverage\n",
    "print('\\n### METRIC 4: Coverage ###')\n",
    "up = delta_test>my_GPR.bounds_delta(0.95)[0] \n",
    "low = delta_test<my_GPR.bounds_delta(0.95)[1]\n",
    "in_bounds = up.numpy()*low.numpy()\n",
    "coverage = 1/len(X_test) * np.sum(in_bounds)\n",
    "print('Cvr = ', coverage)\n",
    "\n",
    "# 5. Negative Log Probability Density\n",
    "print('\\n### METRIC 5: Negative Log Probability Density ###')\n",
    "nlpd = (delta_test-my_GPR.delta())**2/my_GPR.V_g()+tf.math.log(my_GPR.V_g())\n",
    "print('NLPD = ', np.mean(nlpd))"
   ]
  },
  {
   "cell_type": "code",
   "execution_count": null,
   "metadata": {},
   "outputs": [],
   "source": []
  }
 ],
 "metadata": {
  "kernelspec": {
   "display_name": "Python 3",
   "language": "python",
   "name": "python3"
  },
  "language_info": {
   "codemirror_mode": {
    "name": "ipython",
    "version": 3
   },
   "file_extension": ".py",
   "mimetype": "text/x-python",
   "name": "python",
   "nbconvert_exporter": "python",
   "pygments_lexer": "ipython3",
   "version": "3.7.5"
  }
 },
 "nbformat": 4,
 "nbformat_minor": 4
}
